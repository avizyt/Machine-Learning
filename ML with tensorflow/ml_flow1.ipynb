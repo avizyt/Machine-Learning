{
 "cells": [
  {
   "cell_type": "markdown",
   "metadata": {},
   "source": [
    "Solving linerRegression with tensorflow"
   ]
  },
  {
   "cell_type": "code",
   "execution_count": 1,
   "metadata": {},
   "outputs": [],
   "source": [
    "import numpy as np\n",
    "import tensorflow as tf\n",
    "import pandas as pd"
   ]
  },
  {
   "cell_type": "code",
   "execution_count": 2,
   "metadata": {},
   "outputs": [],
   "source": [
    "import matplotlib.pyplot as plt"
   ]
  },
  {
   "cell_type": "code",
   "execution_count": 3,
   "metadata": {},
   "outputs": [],
   "source": [
    "lr = 0.01\n",
    "training_epochs = 100"
   ]
  },
  {
   "cell_type": "markdown",
   "metadata": {},
   "source": [
    "Set the fake data for linera regression task"
   ]
  },
  {
   "cell_type": "code",
   "execution_count": 4,
   "metadata": {},
   "outputs": [],
   "source": [
    "X_train = np.linspace(-1, 1, 101)\n",
    "y_train = 2 * X_train + np.random.randn(*X_train.shape) * 0.33"
   ]
  },
  {
   "cell_type": "markdown",
   "metadata": {},
   "source": [
    "sets up the input and output nodes as placeholders because we will be feeding in data from X_train and y_train"
   ]
  },
  {
   "cell_type": "code",
   "execution_count": 7,
   "metadata": {},
   "outputs": [
    {
     "data": {
      "text/plain": [
       "'2.6.0'"
      ]
     },
     "execution_count": 7,
     "metadata": {},
     "output_type": "execute_result"
    }
   ],
   "source": [
    "tf.__version__"
   ]
  },
  {
   "cell_type": "code",
   "execution_count": 9,
   "metadata": {},
   "outputs": [],
   "source": [
    "class NNModel(tf.keras.Model):\n",
    "\n",
    "    def __init__(self) -> None:\n",
    "        super().__init__()\n",
    "        self.d1 = tf.keras.layers.Dense(4, activation=tf.nn.relu)\n",
    "        self.d2 = tf.keras.layers.Dense(5, activation=tf.nn.softmax)\n",
    "        self.dropout = tf.keras.layers.Dropout(0.2)\n",
    "\n",
    "    # forward pass\n",
    "    def call(self, inputs, training=False):\n",
    "        x = self.d1(inputs)\n",
    "        if training:\n",
    "            x = self.dropout(x, training=training)\n",
    "        return self.d2(x)"
   ]
  },
  {
   "cell_type": "code",
   "execution_count": 10,
   "metadata": {},
   "outputs": [],
   "source": [
    "model = NNModel()"
   ]
  },
  {
   "cell_type": "code",
   "execution_count": 12,
   "metadata": {},
   "outputs": [
    {
     "data": {
      "image/png": "[encoded data removed]",
      "text/plain": [
       "<Figure size 432x288 with 1 Axes>"
      ]
     },
     "metadata": {
      "needs_background": "light"
     },
     "output_type": "display_data"
    }
   ],
   "source": [
    "plt.scatter(X_train, y_train)\n",
    "plt.show()"
   ]
  },
  {
   "cell_type": "code",
   "execution_count": 14,
   "metadata": {},
   "outputs": [],
   "source": [
    "optimizer = tf.keras.optimizers.SGD(lr)\n",
    "loss = tf.keras.losses.MeanSquaredError()"
   ]
  },
  {
   "cell_type": "code",
   "execution_count": 15,
   "metadata": {},
   "outputs": [],
   "source": [
    "model.compile(optimizer=optimizer, loss=loss)"
   ]
  },
  {
   "cell_type": "code",
   "execution_count": 16,
   "metadata": {},
   "outputs": [
    {
     "name": "stdout",
     "output_type": "stream",
     "text": [
      "Epoch 1/100\n",
      "4/4 [==============================] - 2s 22ms/step - loss: 1.5171\n",
      "Epoch 2/100\n",
      "4/4 [==============================] - 0s 3ms/step - loss: 1.5172\n",
      "Epoch 3/100\n",
      "4/4 [==============================] - 0s 2ms/step - loss: 1.5172\n",
      "Epoch 4/100\n",
      "4/4 [==============================] - 0s 1ms/step - loss: 1.5171\n",
      "Epoch 5/100\n",
      "4/4 [==============================] - 0s 3ms/step - loss: 1.5172\n",
      "Epoch 6/100\n",
      "4/4 [==============================] - 0s 2ms/step - loss: 1.5172\n",
      "Epoch 7/100\n",
      "4/4 [==============================] - 0s 2ms/step - loss: 1.5172\n",
      "Epoch 8/100\n",
      "4/4 [==============================] - 0s 2ms/step - loss: 1.5172\n",
      "Epoch 9/100\n",
      "4/4 [==============================] - 0s 2ms/step - loss: 1.5171\n",
      "Epoch 10/100\n",
      "4/4 [==============================] - 0s 2ms/step - loss: 1.5171\n",
      "Epoch 11/100\n",
      "4/4 [==============================] - 0s 2ms/step - loss: 1.5172\n",
      "Epoch 12/100\n",
      "4/4 [==============================] - 0s 3ms/step - loss: 1.5171\n",
      "Epoch 13/100\n",
      "4/4 [==============================] - 0s 2ms/step - loss: 1.5171\n",
      "Epoch 14/100\n",
      "4/4 [==============================] - 0s 2ms/step - loss: 1.5171\n",
      "Epoch 15/100\n",
      "4/4 [==============================] - 0s 2ms/step - loss: 1.5172\n",
      "Epoch 16/100\n",
      "4/4 [==============================] - 0s 2ms/step - loss: 1.5171\n",
      "Epoch 17/100\n",
      "4/4 [==============================] - 0s 2ms/step - loss: 1.5172\n",
      "Epoch 18/100\n",
      "4/4 [==============================] - 0s 2ms/step - loss: 1.5172\n",
      "Epoch 19/100\n",
      "4/4 [==============================] - 0s 3ms/step - loss: 1.5171\n",
      "Epoch 20/100\n",
      "4/4 [==============================] - 0s 2ms/step - loss: 1.5171\n",
      "Epoch 21/100\n",
      "4/4 [==============================] - 0s 2ms/step - loss: 1.5171\n",
      "Epoch 22/100\n",
      "4/4 [==============================] - 0s 2ms/step - loss: 1.5171\n",
      "Epoch 23/100\n",
      "4/4 [==============================] - 0s 2ms/step - loss: 1.5172\n",
      "Epoch 24/100\n",
      "4/4 [==============================] - 0s 2ms/step - loss: 1.5172\n",
      "Epoch 25/100\n",
      "4/4 [==============================] - 0s 2ms/step - loss: 1.5171\n",
      "Epoch 26/100\n",
      "4/4 [==============================] - 0s 2ms/step - loss: 1.5172\n",
      "Epoch 27/100\n",
      "4/4 [==============================] - 0s 3ms/step - loss: 1.5170\n",
      "Epoch 28/100\n",
      "4/4 [==============================] - 0s 1ms/step - loss: 1.5171\n",
      "Epoch 29/100\n",
      "4/4 [==============================] - 0s 3ms/step - loss: 1.5172\n",
      "Epoch 30/100\n",
      "4/4 [==============================] - 0s 2ms/step - loss: 1.5172\n",
      "Epoch 31/100\n",
      "4/4 [==============================] - 0s 2ms/step - loss: 1.5171\n",
      "Epoch 32/100\n",
      "4/4 [==============================] - 0s 2ms/step - loss: 1.5171\n",
      "Epoch 33/100\n",
      "4/4 [==============================] - 0s 2ms/step - loss: 1.5172\n",
      "Epoch 34/100\n",
      "4/4 [==============================] - 0s 2ms/step - loss: 1.5171\n",
      "Epoch 35/100\n",
      "4/4 [==============================] - 0s 3ms/step - loss: 1.5171\n",
      "Epoch 36/100\n",
      "4/4 [==============================] - 0s 2ms/step - loss: 1.5171\n",
      "Epoch 37/100\n",
      "4/4 [==============================] - 0s 2ms/step - loss: 1.5171\n",
      "Epoch 38/100\n",
      "4/4 [==============================] - 0s 2ms/step - loss: 1.5172\n",
      "Epoch 39/100\n",
      "4/4 [==============================] - 0s 2ms/step - loss: 1.5171\n",
      "Epoch 40/100\n",
      "4/4 [==============================] - 0s 2ms/step - loss: 1.5171\n",
      "Epoch 41/100\n",
      "4/4 [==============================] - 0s 2ms/step - loss: 1.5171\n",
      "Epoch 42/100\n",
      "4/4 [==============================] - 0s 2ms/step - loss: 1.5171\n",
      "Epoch 43/100\n",
      "4/4 [==============================] - 0s 2ms/step - loss: 1.5172\n",
      "Epoch 44/100\n",
      "4/4 [==============================] - 0s 2ms/step - loss: 1.5171\n",
      "Epoch 45/100\n",
      "4/4 [==============================] - 0s 2ms/step - loss: 1.5172\n",
      "Epoch 46/100\n",
      "4/4 [==============================] - 0s 6ms/step - loss: 1.5171\n",
      "Epoch 47/100\n",
      "4/4 [==============================] - 0s 4ms/step - loss: 1.5171\n",
      "Epoch 48/100\n",
      "4/4 [==============================] - 0s 2ms/step - loss: 1.5171\n",
      "Epoch 49/100\n",
      "4/4 [==============================] - 0s 2ms/step - loss: 1.5170\n",
      "Epoch 50/100\n",
      "4/4 [==============================] - 0s 2ms/step - loss: 1.5171\n",
      "Epoch 51/100\n",
      "4/4 [==============================] - 0s 8ms/step - loss: 1.5171\n",
      "Epoch 52/100\n",
      "4/4 [==============================] - 0s 4ms/step - loss: 1.5171\n",
      "Epoch 53/100\n",
      "4/4 [==============================] - 0s 4ms/step - loss: 1.5171\n",
      "Epoch 54/100\n",
      "4/4 [==============================] - 0s 2ms/step - loss: 1.5169\n",
      "Epoch 55/100\n",
      "4/4 [==============================] - 0s 3ms/step - loss: 1.5172\n",
      "Epoch 56/100\n",
      "4/4 [==============================] - 0s 2ms/step - loss: 1.5171\n",
      "Epoch 57/100\n",
      "4/4 [==============================] - 0s 2ms/step - loss: 1.5171\n",
      "Epoch 58/100\n",
      "4/4 [==============================] - 0s 2ms/step - loss: 1.5171\n",
      "Epoch 59/100\n",
      "4/4 [==============================] - 0s 2ms/step - loss: 1.5170\n",
      "Epoch 60/100\n",
      "4/4 [==============================] - 0s 2ms/step - loss: 1.5171\n",
      "Epoch 61/100\n",
      "4/4 [==============================] - 0s 2ms/step - loss: 1.5171\n",
      "Epoch 62/100\n",
      "4/4 [==============================] - 0s 2ms/step - loss: 1.5171\n",
      "Epoch 63/100\n",
      "4/4 [==============================] - 0s 2ms/step - loss: 1.5171\n",
      "Epoch 64/100\n",
      "4/4 [==============================] - 0s 2ms/step - loss: 1.5170\n",
      "Epoch 65/100\n",
      "4/4 [==============================] - 0s 2ms/step - loss: 1.5172\n",
      "Epoch 66/100\n",
      "4/4 [==============================] - 0s 3ms/step - loss: 1.5170\n",
      "Epoch 67/100\n",
      "4/4 [==============================] - 0s 2ms/step - loss: 1.5171\n",
      "Epoch 68/100\n",
      "4/4 [==============================] - ETA: 0s - loss: 1.812 - 0s 2ms/step - loss: 1.5172\n",
      "Epoch 69/100\n",
      "4/4 [==============================] - 0s 2ms/step - loss: 1.5171\n",
      "Epoch 70/100\n",
      "4/4 [==============================] - 0s 2ms/step - loss: 1.5170\n",
      "Epoch 71/100\n",
      "4/4 [==============================] - 0s 2ms/step - loss: 1.5170\n",
      "Epoch 72/100\n",
      "4/4 [==============================] - 0s 4ms/step - loss: 1.5171\n",
      "Epoch 73/100\n",
      "4/4 [==============================] - 0s 3ms/step - loss: 1.5171\n",
      "Epoch 74/100\n",
      "4/4 [==============================] - 0s 2ms/step - loss: 1.5170\n",
      "Epoch 75/100\n",
      "4/4 [==============================] - 0s 2ms/step - loss: 1.5171\n",
      "Epoch 76/100\n",
      "4/4 [==============================] - 0s 2ms/step - loss: 1.5172\n",
      "Epoch 77/100\n",
      "4/4 [==============================] - 0s 2ms/step - loss: 1.5169\n",
      "Epoch 78/100\n",
      "4/4 [==============================] - 0s 2ms/step - loss: 1.5171\n",
      "Epoch 79/100\n",
      "4/4 [==============================] - 0s 2ms/step - loss: 1.5171\n",
      "Epoch 80/100\n",
      "4/4 [==============================] - 0s 2ms/step - loss: 1.5171\n",
      "Epoch 81/100\n",
      "4/4 [==============================] - 0s 2ms/step - loss: 1.5172\n",
      "Epoch 82/100\n",
      "4/4 [==============================] - 0s 2ms/step - loss: 1.5171\n",
      "Epoch 83/100\n",
      "4/4 [==============================] - 0s 3ms/step - loss: 1.5171\n",
      "Epoch 84/100\n",
      "4/4 [==============================] - 0s 2ms/step - loss: 1.5171\n",
      "Epoch 85/100\n",
      "4/4 [==============================] - 0s 2ms/step - loss: 1.5171\n",
      "Epoch 86/100\n",
      "4/4 [==============================] - 0s 2ms/step - loss: 1.5170\n",
      "Epoch 87/100\n",
      "4/4 [==============================] - 0s 3ms/step - loss: 1.5172\n",
      "Epoch 88/100\n",
      "4/4 [==============================] - 0s 2ms/step - loss: 1.5171\n",
      "Epoch 89/100\n",
      "4/4 [==============================] - 0s 2ms/step - loss: 1.5171\n",
      "Epoch 90/100\n",
      "4/4 [==============================] - 0s 2ms/step - loss: 1.5170\n",
      "Epoch 91/100\n",
      "4/4 [==============================] - 0s 2ms/step - loss: 1.5171\n",
      "Epoch 92/100\n",
      "4/4 [==============================] - 0s 2ms/step - loss: 1.5171\n",
      "Epoch 93/100\n",
      "4/4 [==============================] - ETA: 0s - loss: 1.521 - 0s 2ms/step - loss: 1.5170\n",
      "Epoch 94/100\n",
      "4/4 [==============================] - 0s 3ms/step - loss: 1.5171\n",
      "Epoch 95/100\n",
      "4/4 [==============================] - 0s 1ms/step - loss: 1.5171\n",
      "Epoch 96/100\n",
      "4/4 [==============================] - 0s 2ms/step - loss: 1.5171\n",
      "Epoch 97/100\n",
      "4/4 [==============================] - 0s 1ms/step - loss: 1.5171\n",
      "Epoch 98/100\n",
      "4/4 [==============================] - 0s 2ms/step - loss: 1.5170\n",
      "Epoch 99/100\n",
      "4/4 [==============================] - 0s 2ms/step - loss: 1.5171\n",
      "Epoch 100/100\n",
      "4/4 [==============================] - 0s 2ms/step - loss: 1.5170\n"
     ]
    },
    {
     "data": {
      "text/plain": [
       "<keras.callbacks.History at 0x1cc1c1037c0>"
      ]
     },
     "execution_count": 16,
     "metadata": {},
     "output_type": "execute_result"
    }
   ],
   "source": [
    "model.fit(X_train, y_train, epochs=training_epochs, verbose=1)"
   ]
  },
  {
   "cell_type": "code",
   "execution_count": 17,
   "metadata": {},
   "outputs": [
    {
     "name": "stdout",
     "output_type": "stream",
     "text": [
      "Model: \"nn_model\"\n",
      "_________________________________________________________________\n",
      "Layer (type)                 Output Shape              Param #   \n",
      "=================================================================\n",
      "dense (Dense)                multiple                  8         \n",
      "_________________________________________________________________\n",
      "dense_1 (Dense)              multiple                  25        \n",
      "_________________________________________________________________\n",
      "dropout (Dropout)            multiple                  0         \n",
      "=================================================================\n",
      "Total params: 33\n",
      "Trainable params: 33\n",
      "Non-trainable params: 0\n",
      "_________________________________________________________________\n"
     ]
    }
   ],
   "source": [
    "model.summary()"
   ]
  },
  {
   "cell_type": "code",
   "execution_count": 20,
   "metadata": {},
   "outputs": [
    {
     "name": "stdout",
     "output_type": "stream",
     "text": [
      "4/4 [==============================] - 0s 2ms/step - loss: 1.5169\n"
     ]
    },
    {
     "ename": "TypeError",
     "evalue": "cannot unpack non-iterable float object",
     "output_type": "error",
     "traceback": [
      "\u001b[1;31m---------------------------------------------------------------------------\u001b[0m",
      "\u001b[1;31mTypeError\u001b[0m                                 Traceback (most recent call last)",
      "\u001b[1;32mC:\\Users\\AVIJIT~1\\AppData\\Local\\Temp/ipykernel_15956/987228155.py\u001b[0m in \u001b[0;36m<module>\u001b[1;34m\u001b[0m\n\u001b[1;32m----> 1\u001b[1;33m \u001b[0mtest_loss\u001b[0m\u001b[1;33m,\u001b[0m \u001b[0mtest_acc\u001b[0m \u001b[1;33m=\u001b[0m \u001b[0mmodel\u001b[0m\u001b[1;33m.\u001b[0m\u001b[0mevaluate\u001b[0m\u001b[1;33m(\u001b[0m\u001b[0mX_train\u001b[0m\u001b[1;33m,\u001b[0m \u001b[0my_train\u001b[0m\u001b[1;33m)\u001b[0m\u001b[1;33m\u001b[0m\u001b[1;33m\u001b[0m\u001b[0m\n\u001b[0m",
      "\u001b[1;31mTypeError\u001b[0m: cannot unpack non-iterable float object"
     ]
    }
   ],
   "source": [
    "test_loss, test_acc = model.evaluate(X_train, y_train)"
   ]
  },
  {
   "cell_type": "code",
   "execution_count": 19,
   "metadata": {},
   "outputs": [],
   "source": [
    "y_pred = model.predict(X_train)"
   ]
  },
  {
   "cell_type": "code",
   "execution_count": 23,
   "metadata": {},
   "outputs": [
    {
     "data": {
      "image/png": "[encoded data removed]",
      "text/plain": [
       "<Figure size 432x288 with 1 Axes>"
      ]
     },
     "metadata": {
      "needs_background": "light"
     },
     "output_type": "display_data"
    }
   ],
   "source": [
    "plt.scatter(X_train, y_train)\n",
    "# plt.scatter(X_train, y_pred)\n",
    "plt.show()"
   ]
  }
 ],
 "metadata": {
  "interpreter": {
   "hash": "c48318aa3a00788a0c5588bddd5ec4d2d9555ba3ec179d00474fe581f353d319"
  },
  "kernelspec": {
   "display_name": "Python 3.8.10 64-bit ('keras': conda)",
   "language": "python",
   "name": "python3"
  },
  "language_info": {
   "codemirror_mode": {
    "name": "ipython",
    "version": 3
   },
   "file_extension": ".py",
   "mimetype": "text/x-python",
   "name": "python",
   "nbconvert_exporter": "python",
   "pygments_lexer": "ipython3",
   "version": "3.8.11"
  },
  "orig_nbformat": 4
 },
 "nbformat": 4,
 "nbformat_minor": 2
}
