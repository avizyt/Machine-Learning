{
 "cells": [
  {
   "cell_type": "code",
   "execution_count": 1,
   "metadata": {},
   "outputs": [],
   "source": [
    "import pandas as pd\n",
    "import numpy as np\n",
    "import matplotlib.pyplot as plt"
   ]
  },
  {
   "cell_type": "code",
   "execution_count": 2,
   "metadata": {},
   "outputs": [],
   "source": [
    "file_url = 'https://raw.githubusercontent.com/PacktWorkshops'\\\n",
    "'/The-Data-Science-Workshop/master/Chapter04/'\\\n",
    "'Dataset/activity.csv'"
   ]
  },
  {
   "cell_type": "code",
   "execution_count": 4,
   "metadata": {},
   "outputs": [
    {
     "data": {
      "text/html": [
       "<div>\n",
       "<style scoped>\n",
       "    .dataframe tbody tr th:only-of-type {\n",
       "        vertical-align: middle;\n",
       "    }\n",
       "\n",
       "    .dataframe tbody tr th {\n",
       "        vertical-align: top;\n",
       "    }\n",
       "\n",
       "    .dataframe thead th {\n",
       "        text-align: right;\n",
       "    }\n",
       "</style>\n",
       "<table border=\"1\" class=\"dataframe\">\n",
       "  <thead>\n",
       "    <tr style=\"text-align: right;\">\n",
       "      <th></th>\n",
       "      <th>avg_rss12</th>\n",
       "      <th>var_rss12</th>\n",
       "      <th>avg_rss13</th>\n",
       "      <th>var_rss13</th>\n",
       "      <th>avg_rss23</th>\n",
       "      <th>var_rss23</th>\n",
       "      <th>Activity</th>\n",
       "    </tr>\n",
       "  </thead>\n",
       "  <tbody>\n",
       "    <tr>\n",
       "      <th>0</th>\n",
       "      <td>42.00</td>\n",
       "      <td>0.00</td>\n",
       "      <td>18.50</td>\n",
       "      <td>0.50</td>\n",
       "      <td>12.00</td>\n",
       "      <td>0.00</td>\n",
       "      <td>bending1</td>\n",
       "    </tr>\n",
       "    <tr>\n",
       "      <th>1</th>\n",
       "      <td>42.00</td>\n",
       "      <td>0.00</td>\n",
       "      <td>18.00</td>\n",
       "      <td>0.00</td>\n",
       "      <td>11.33</td>\n",
       "      <td>0.94</td>\n",
       "      <td>bending1</td>\n",
       "    </tr>\n",
       "    <tr>\n",
       "      <th>2</th>\n",
       "      <td>42.75</td>\n",
       "      <td>0.43</td>\n",
       "      <td>16.75</td>\n",
       "      <td>1.79</td>\n",
       "      <td>18.25</td>\n",
       "      <td>0.43</td>\n",
       "      <td>bending1</td>\n",
       "    </tr>\n",
       "    <tr>\n",
       "      <th>3</th>\n",
       "      <td>42.50</td>\n",
       "      <td>0.50</td>\n",
       "      <td>16.75</td>\n",
       "      <td>0.83</td>\n",
       "      <td>19.00</td>\n",
       "      <td>1.22</td>\n",
       "      <td>bending1</td>\n",
       "    </tr>\n",
       "    <tr>\n",
       "      <th>4</th>\n",
       "      <td>43.00</td>\n",
       "      <td>0.82</td>\n",
       "      <td>16.25</td>\n",
       "      <td>0.83</td>\n",
       "      <td>18.00</td>\n",
       "      <td>0.00</td>\n",
       "      <td>bending1</td>\n",
       "    </tr>\n",
       "  </tbody>\n",
       "</table>\n",
       "</div>"
      ],
      "text/plain": [
       "   avg_rss12  var_rss12  avg_rss13  var_rss13  avg_rss23  var_rss23  Activity\n",
       "0      42.00       0.00      18.50       0.50      12.00       0.00  bending1\n",
       "1      42.00       0.00      18.00       0.00      11.33       0.94  bending1\n",
       "2      42.75       0.43      16.75       1.79      18.25       0.43  bending1\n",
       "3      42.50       0.50      16.75       0.83      19.00       1.22  bending1\n",
       "4      43.00       0.82      16.25       0.83      18.00       0.00  bending1"
      ]
     },
     "execution_count": 4,
     "metadata": {},
     "output_type": "execute_result"
    }
   ],
   "source": [
    "df = pd.read_csv(file_url)\n",
    "df.head()"
   ]
  },
  {
   "cell_type": "code",
   "execution_count": 8,
   "metadata": {},
   "outputs": [
    {
     "data": {
      "text/plain": [
       "(41759, 7)"
      ]
     },
     "execution_count": 8,
     "metadata": {},
     "output_type": "execute_result"
    }
   ],
   "source": [
    "df.shape"
   ]
  },
  {
   "cell_type": "code",
   "execution_count": 5,
   "metadata": {},
   "outputs": [
    {
     "data": {
      "text/plain": [
       "Index(['avg_rss12', 'var_rss12', 'avg_rss13', 'var_rss13', 'avg_rss23',\n",
       "       'var_rss23', 'Activity'],\n",
       "      dtype='object')"
      ]
     },
     "execution_count": 5,
     "metadata": {},
     "output_type": "execute_result"
    }
   ],
   "source": [
    "df.columns"
   ]
  },
  {
   "cell_type": "code",
   "execution_count": 6,
   "metadata": {},
   "outputs": [
    {
     "data": {
      "text/plain": [
       "array(['bending1', 'walking', 'bending2', 'standing', 'sitting', 'lying',\n",
       "       'cycling'], dtype=object)"
      ]
     },
     "execution_count": 6,
     "metadata": {},
     "output_type": "execute_result"
    }
   ],
   "source": [
    "df['Activity'].unique()"
   ]
  },
  {
   "cell_type": "code",
   "execution_count": 7,
   "metadata": {},
   "outputs": [
    {
     "data": {
      "text/plain": [
       "avg_rss12    0\n",
       "var_rss12    0\n",
       "avg_rss13    0\n",
       "var_rss13    0\n",
       "avg_rss23    0\n",
       "var_rss23    0\n",
       "Activity     0\n",
       "dtype: int64"
      ]
     },
     "execution_count": 7,
     "metadata": {},
     "output_type": "execute_result"
    }
   ],
   "source": [
    "df.isnull().sum()"
   ]
  },
  {
   "cell_type": "markdown",
   "metadata": {},
   "source": [
    "### separate the respose variable using .pop()"
   ]
  },
  {
   "cell_type": "code",
   "execution_count": 9,
   "metadata": {},
   "outputs": [
    {
     "data": {
      "text/plain": [
       "0    bending1\n",
       "1    bending1\n",
       "2    bending1\n",
       "3    bending1\n",
       "4    bending1\n",
       "Name: Activity, dtype: object"
      ]
     },
     "execution_count": 9,
     "metadata": {},
     "output_type": "execute_result"
    }
   ],
   "source": [
    "target = df.pop(\"Activity\")\n",
    "target.head()"
   ]
  },
  {
   "cell_type": "code",
   "execution_count": 10,
   "metadata": {},
   "outputs": [
    {
     "data": {
      "text/plain": [
       "(41759, 6)"
      ]
     },
     "execution_count": 10,
     "metadata": {},
     "output_type": "execute_result"
    }
   ],
   "source": [
    "df.shape"
   ]
  },
  {
   "cell_type": "code",
   "execution_count": 11,
   "metadata": {},
   "outputs": [],
   "source": [
    "# split the dataset\n",
    "from sklearn.model_selection import train_test_split\n",
    "\n",
    "random_seed = 42\n",
    "X_train, X_test, y_train, y_test = train_test_split(\n",
    "    df,\n",
    "    target, \n",
    "    test_size=0.2, \n",
    "    random_state=random_seed\n",
    ")"
   ]
  },
  {
   "cell_type": "code",
   "execution_count": 12,
   "metadata": {},
   "outputs": [],
   "source": [
    "from sklearn.ensemble import RandomForestClassifier\n",
    "rf_model = RandomForestClassifier(\n",
    "    random_state=random_seed,\n",
    "    n_estimators=10\n",
    "    )"
   ]
  },
  {
   "cell_type": "code",
   "execution_count": 13,
   "metadata": {},
   "outputs": [
    {
     "data": {
      "text/plain": [
       "RandomForestClassifier(n_estimators=10, random_state=42)"
      ]
     },
     "execution_count": 13,
     "metadata": {},
     "output_type": "execute_result"
    }
   ],
   "source": [
    "rf_model.fit(X_train, y_train)"
   ]
  },
  {
   "cell_type": "markdown",
   "metadata": {},
   "source": [
    "Prediction on training data"
   ]
  },
  {
   "cell_type": "code",
   "execution_count": 14,
   "metadata": {},
   "outputs": [
    {
     "data": {
      "text/plain": [
       "array(['standing', 'sitting', 'cycling', ..., 'cycling', 'bending1',\n",
       "       'standing'], dtype=object)"
      ]
     },
     "execution_count": 14,
     "metadata": {},
     "output_type": "execute_result"
    }
   ],
   "source": [
    "preds = rf_model.predict(X_train)\n",
    "preds"
   ]
  },
  {
   "cell_type": "markdown",
   "metadata": {},
   "source": [
    "## Model Evaluation and prediction\n",
    "### accuracy score"
   ]
  },
  {
   "cell_type": "code",
   "execution_count": 15,
   "metadata": {},
   "outputs": [
    {
     "data": {
      "text/plain": [
       "0.9881162630586404"
      ]
     },
     "execution_count": 15,
     "metadata": {},
     "output_type": "execute_result"
    }
   ],
   "source": [
    "from sklearn.metrics import accuracy_score\n",
    "accuracy_score(y_train, preds)"
   ]
  },
  {
   "cell_type": "markdown",
   "metadata": {},
   "source": [
    "Analysis of the model\n",
    "- Accuracy score is above 98% in training data.\n",
    "- it is obvious that the model is overfitting. "
   ]
  },
  {
   "cell_type": "code",
   "execution_count": 16,
   "metadata": {},
   "outputs": [
    {
     "data": {
      "text/plain": [
       "0.7750239463601533"
      ]
     },
     "execution_count": 16,
     "metadata": {},
     "output_type": "execute_result"
    }
   ],
   "source": [
    "test_pred = rf_model.predict(X_test)\n",
    "accuracy_score(y_test, test_pred)"
   ]
  },
  {
   "cell_type": "markdown",
   "metadata": {},
   "source": [
    "Analysis::\n",
    "- Accuracy score is 77% drop 21% from train predintion.\n",
    "- The difference between train and test sets is quite big.\n",
    "- Model is overfitting and learn only the pattern relevent to the training sets. "
   ]
  },
  {
   "cell_type": "code",
   "execution_count": 18,
   "metadata": {},
   "outputs": [
    {
     "name": "stdout",
     "output_type": "stream",
     "text": [
      "Accuracy of rf_Model0 : 0.7550287356321839\n",
      "Accuracy of rf_Model1 : 0.7750239463601533\n",
      "Accuracy of rf_Model2 : 0.7824473180076629\n",
      "Accuracy of rf_Model3 : 0.7859195402298851\n",
      "Accuracy of rf_Model4 : 0.7865181992337165\n",
      "Accuracy of rf_Model5 : 0.7913074712643678\n"
     ]
    }
   ],
   "source": [
    "N = [5,10,20,40,80,160]\n",
    "for i in range(len(N)):\n",
    "    model = RandomForestClassifier(\n",
    "        random_state=random_seed,\n",
    "        n_estimators=N[i]\n",
    "        )\n",
    "    model.fit(X_train, y_train)\n",
    "    preds = model.predict(X_test)\n",
    "    acc = accuracy_score(y_test, preds)\n",
    "    print(f\"Accuracy of rf_Model{i} : {acc}\")\n",
    "    "
   ]
  },
  {
   "cell_type": "code",
   "execution_count": 19,
   "metadata": {},
   "outputs": [],
   "source": [
    "def model_estimator(model, X_train, y_train, X_test, y_test):\n",
    "    model.fit(X_train, y_train)\n",
    "    preds = model.predict(X_test)\n",
    "    acc = accuracy_score(y_test, preds)\n",
    "    print(f\"Accuracy of the Model : {acc}\")\n"
   ]
  },
  {
   "cell_type": "code",
   "execution_count": 20,
   "metadata": {},
   "outputs": [
    {
     "name": "stdout",
     "output_type": "stream",
     "text": [
      "Accuracy of rf_Model5 : 0.7913074712643678\n"
     ]
    }
   ],
   "source": [
    "rf_model_tuned = RandomForestClassifier(\n",
    "    random_state=random_seed,\n",
    "    n_estimators=160\n",
    ")\n",
    "model_estimator(rf_model_tuned, X_train, y_train, X_test, y_test)"
   ]
  },
  {
   "cell_type": "code",
   "execution_count": 26,
   "metadata": {},
   "outputs": [
    {
     "name": "stdout",
     "output_type": "stream",
     "text": [
      "Accuracy of rf_Model_50 max_depth : 50\n",
      "0.7550287356321839\n",
      "Accuracy of rf_Model_75 max_depth : 50\n",
      "0.7750239463601533\n",
      "Accuracy of rf_Model_100 max_depth : 50\n",
      "0.7824473180076629\n",
      "Accuracy of rf_Model_150 max_depth : 50\n",
      "0.7859195402298851\n",
      "Accuracy of rf_Model_180 max_depth : 50\n",
      "0.7865181992337165\n",
      "Accuracy of rf_Model_200 max_depth : 50\n",
      "0.7913074712643678\n"
     ]
    }
   ],
   "source": [
    "n_estimators = [ 50, 75, 100, 150, 180, 200]\n",
    "max_depth = 50\n",
    "for i in range(len(n_estimators)):\n",
    "    \n",
    "    model = RandomForestClassifier(\n",
    "    random_state=random_seed,\n",
    "    n_estimators=N[i],\n",
    "    max_depth=max_depth\n",
    "    )\n",
    "    model.fit(X_train, y_train)\n",
    "    preds = model.predict(X_test)\n",
    "    acc = accuracy_score(y_test, preds)\n",
    "    print(f\"Accuracy of rf_Model_{n_estimators[i]} max_depth : {max_depth}\")\n",
    "    print(acc)\n",
    "        "
   ]
  },
  {
   "cell_type": "code",
   "execution_count": 27,
   "metadata": {},
   "outputs": [
    {
     "name": "stdout",
     "output_type": "stream",
     "text": [
      "Accuracy of rf_Model_3: 0.7885536398467433\n",
      "Accuracy of rf_Model_5: 0.7866379310344828\n",
      "Accuracy of rf_Model_10: 0.7822078544061303\n",
      "Accuracy of rf_Model_15: 0.7814894636015326\n",
      "Accuracy of rf_Model_20: 0.774904214559387\n",
      "Accuracy of rf_Model_25: 0.7716714559386973\n",
      "Accuracy of rf_Model_30: 0.7689176245210728\n",
      "Accuracy of rf_Model_35: 0.7676005747126436\n",
      "Accuracy of rf_Model_40: 0.7661637931034483\n",
      "Accuracy of rf_Model_45: 0.7646072796934866\n",
      "Accuracy of rf_Model_50: 0.7600574712643678\n"
     ]
    }
   ],
   "source": [
    "leafs = [3, 5, 10, 15, 20, 25, 30, 35, 40, 45, 50]\n",
    "\n",
    "for i in range(len(leafs)):\n",
    "    \n",
    "    model = RandomForestClassifier(\n",
    "    random_state=random_seed,\n",
    "    n_estimators=200,\n",
    "    max_depth=50,\n",
    "    min_samples_leaf=leafs[i]\n",
    "    )\n",
    "    model.fit(X_train, y_train)\n",
    "    preds = model.predict(X_test)\n",
    "    acc = accuracy_score(y_test, preds)\n",
    "    print(f\"Accuracy of rf_Model_{leafs[i]}: {acc}\")\n",
    "    "
   ]
  },
  {
   "cell_type": "code",
   "execution_count": 33,
   "metadata": {},
   "outputs": [
    {
     "name": "stdout",
     "output_type": "stream",
     "text": [
      "Accuracy of rf_Model_leaf15: 0.8134223366360344\n",
      "Accuracy of rf_Model_leaf15: 0.7692768199233716\n"
     ]
    }
   ],
   "source": [
    "rf_model_leaf15 = RandomForestClassifier(\n",
    "    random_state=random_seed,\n",
    "    n_estimators=100,\n",
    "    max_depth=30,\n",
    "    min_samples_leaf=25\n",
    ")\n",
    "rf_model_leaf15.fit(X_train, y_train)\n",
    "preds_train = rf_model_leaf15.predict(X_train)\n",
    "acc_train = accuracy_score(y_train, preds_train)\n",
    "print(f\"Accuracy of rf_Model_leaf15: {acc_train}\")\n",
    "\n",
    "preds = rf_model_leaf15.predict(X_test)\n",
    "acc = accuracy_score(y_test, preds)\n",
    "print(f\"Accuracy of rf_Model_leaf15: {acc}\")"
   ]
  },
  {
   "cell_type": "code",
   "execution_count": 37,
   "metadata": {},
   "outputs": [
    {
     "name": "stdout",
     "output_type": "stream",
     "text": [
      "Accuracy of rf_Model_leaf15: 0.8160864489478253\n",
      "Accuracy of rf_Model_leaf15: 0.7733477011494253\n"
     ]
    }
   ],
   "source": [
    "rf_model_leaf15 = RandomForestClassifier(\n",
    "    random_state=random_seed,\n",
    "    n_estimators=100,\n",
    "    max_depth=30,\n",
    "    min_samples_leaf=25,\n",
    "    max_features=5\n",
    ")\n",
    "rf_model_leaf15.fit(X_train, y_train)\n",
    "preds_train = rf_model_leaf15.predict(X_train)\n",
    "acc_train = accuracy_score(y_train, preds_train)\n",
    "print(f\"Accuracy of rf_Model_leaf15: {acc_train}\")\n",
    "\n",
    "preds = rf_model_leaf15.predict(X_test)\n",
    "acc = accuracy_score(y_test, preds)\n",
    "print(f\"Accuracy of rf_Model_leaf15: {acc}\")"
   ]
  }
 ],
 "metadata": {
  "interpreter": {
   "hash": "fd034ed54560f0698c2946b7ca675e493afbd7ee3c0ecf162ae3deac3cf4477b"
  },
  "kernelspec": {
   "display_name": "Python 3.8.8 64-bit ('pytorch': conda)",
   "language": "python",
   "name": "python3"
  },
  "language_info": {
   "codemirror_mode": {
    "name": "ipython",
    "version": 3
   },
   "file_extension": ".py",
   "mimetype": "text/x-python",
   "name": "python",
   "nbconvert_exporter": "python",
   "pygments_lexer": "ipython3",
   "version": "3.8.8"
  },
  "orig_nbformat": 4
 },
 "nbformat": 4,
 "nbformat_minor": 2
}
