{
 "cells": [
  {
   "cell_type": "code",
   "execution_count": 2,
   "metadata": {},
   "outputs": [],
   "source": [
    "MALE = 'male'\n",
    "FEMALE = 'female'\n",
    "UNKNOWN = 'unknown'\n",
    "BOTH = 'both'\n",
    "\n",
    "MALE_WORDS = set([\n",
    "    'guy','spokesman','chairman',\"men's\",'men','him',\"he's\",'his', 'boy','boyfriend','boyfriends','boys','brother','brothers','dad', 'dads','dude','father','fathers','fiance','gentleman','gentlemen', 'god','grandfather','grandpa','grandson','groom','he','himself','husband','husbands','king','male','man','mr','nephew','nephews', 'priest','prince','son','sons','uncle','uncles','waiter','widower','widowers'\n",
    "])\n",
    "FEMALE_WORDS = set([\n",
    "    'heroine','spokeswoman','chairwoman',\"women's\",'actress','women',\"she's\",'her','aunt','aunts','bride','daughter','daughters','female','fiancee','girl','girlfriend','girlfriends','girls','goddess','granddaughter','grandma','grandmother','herself','ladies','lady','lady','mom','moms','mother','mothers','mrs','ms','niece','nieces','priestess','princess','queens','she','sister','sisters','waitress',\n",
    "    'widow','widows','wife','wives','woman'\n",
    "])"
   ]
  },
  {
   "cell_type": "code",
   "execution_count": 9,
   "metadata": {},
   "outputs": [],
   "source": [
    "def genderize(words):\n",
    "\n",
    "    mwlen = len(MALE_WORDS.intersection(words))\n",
    "    fwlen = len(FEMALE_WORDS.intersection(words))\n",
    "\n",
    "    if mwlen > 0 and fwlen == 0:\n",
    "        return MALE\n",
    "\n",
    "    elif mwlen == 0 and fwlen > 0:\n",
    "        return FEMALE\n",
    "    elif mwlen > 0 and fwlen > 0:\n",
    "        return BOTH\n",
    "    else:\n",
    "        return UNKNOWN"
   ]
  },
  {
   "cell_type": "code",
   "execution_count": 10,
   "metadata": {},
   "outputs": [],
   "source": [
    "from collections import Counter\n",
    "\n",
    "def count_gender(sentences):\n",
    "\n",
    "    sents = Counter()\n",
    "    words = Counter()\n",
    "\n",
    "    for sentence in sentences:\n",
    "        gender = genderize(sentence)\n",
    "        sents[gender] += 1\n",
    "        words[gender] += len(sentence)\n",
    "    \n",
    "    return sents, words"
   ]
  },
  {
   "cell_type": "code",
   "execution_count": 19,
   "metadata": {},
   "outputs": [],
   "source": [
    "import nltk\n",
    "\n",
    "def parse_gender(text):\n",
    "\n",
    "    sentences = [\n",
    "        [word.lower() for word in nltk.word_tokenize(sentence)]\n",
    "        for sentence in nltk.sent_tokenize(text)\n",
    "    ]\n",
    "    sents, words = count_gender(sentences)\n",
    "    total = sum(words.values())\n",
    "\n",
    "    for gender, count in words.items():\n",
    "        pcent = (count / total) * 100\n",
    "        nsents = sents[gender]\n",
    "\n",
    "        print(\n",
    "            f\"{pcent:0.3f}% {gender} ({nsents} sentences)\"\n",
    "        )"
   ]
  },
  {
   "cell_type": "code",
   "execution_count": 20,
   "metadata": {},
   "outputs": [],
   "source": [
    "news = 'We need to get one thing straight — our law does not require that drug users be imprisoned. This applies also to persons found in possession of “small quantities” of contraband meant for personal consumption. They can be let off with a fine of no more than Rs 10,000. The objective of the law is to prevent proliferation of commerce in narcotics, not the debasement of drug users. But what we have seen happen recently is quite at odds with this mandate.The pandemic saw a rise in drug-related arrests and seizures. The local police seemed to become more active in its pursuit not only of pushers and peddlers but even the lowly downstream user. Even the Home Minister of Karnataka proclaimed that as of July 2021, drug seizures in the state were higher than all seizures for the last five years combined. However, there is no empirical evidence to suggest that the number of drug users has increased in the last two years. In fact, the latest report by the National Crime Records Bureau notes a decrease of more than 27 per cent in crimes related to personal consumption of drugs from 2019 to 2020. Even crimes related to drug trafficking have seen a drop of 2 per cent in the same period. This begs the question: Why have we suddenly become so preoccupied with the issue of prohibited substances? Narcotics have found a way into India through borders, ports, and the dark web for years now. Similarly, app-based aggregators and the postal service have been unwittingly used for minor drug deliveries for quite some time. In the absence of verifiable data, one can only surmise that what has changed — and drastically so — is the very approach of our law enforcement agencies to drug offences. It seems to be that the unofficial official position of the police and the NCB is that “no seizure is too small”. The trouble with this approach is that it goes beyond what Parliament prescribed. Yes, the NDPS Act does provide for extraordinarily harsh sentences for those convicted of offences involving commerce of contraband. The Act also reverses the burden of proof and presumes guilt (rather than innocence) in some cases. But we seem to have forgotten that the same legislation provides for an immunity from prosecution to those who are dependent on drugs (through Section 64), and provides for the setting up of treatment facilities for addicts (through Section 71).When the NDPS Act was introduced in 1985, there was no immunity from prosecution for addicts, and there was no real difference in its treatment of the user and the dealer. This changed in 2001, when the Act was significantly amended and redesigned to become more tolerant, and more appreciative of the distinction between a drug user and a drug dealer. The objective of the amendment was to stop thinking of and treating drug users as hardened criminals, which they seldom are. The law was recalibrated to focus on the bigger fish: Those who brought the contraband in, and those that facilitated its trade. Sadly, recent trends in law enforcement are making it clear that this recalibration is being ignored.It is now routine to arrest those suspected of drug consumption, and those even in possession of quantities meant for personal use. In many cities, individuals are being subjected to drug tests without an order of a competent court, rendering the right against self-incrimination almost futile. It has fallen on the judiciary to continuously remind our law enforcement authorities that the ability to arrest does not mean that an arrest should always be made. Cameras are zoomed in on high-profile detainees. Law officers are fighting tooth and nail to obtain custody of individuals suspected merely of drug consumption. In such a situation, those without privileges stand to lose much of their liberty, despite the legislature having decided that they should not have to.Whether this recent doggedness in pursuing drug offences is a matter of policy or political posturing is yet unclear. We can, however, be certain that it is not what our democratic process of lawmaking envisioned.'"
   ]
  },
  {
   "cell_type": "code",
   "execution_count": 21,
   "metadata": {},
   "outputs": [
    {
     "name": "stdout",
     "output_type": "stream",
     "text": [
      "100.000% unknown (29 sentences)\n"
     ]
    }
   ],
   "source": [
    "parse_gender(news)"
   ]
  }
 ],
 "metadata": {
  "interpreter": {
   "hash": "e0c0fc535d3a4574cc8f7de5fd7fa08a6aadbe1efe276a04e27ee4584e1eb9fa"
  },
  "kernelspec": {
   "display_name": "Python 3.8.8 64-bit ('ml': conda)",
   "name": "python3"
  },
  "language_info": {
   "codemirror_mode": {
    "name": "ipython",
    "version": 3
   },
   "file_extension": ".py",
   "mimetype": "text/x-python",
   "name": "python",
   "nbconvert_exporter": "python",
   "pygments_lexer": "ipython3",
   "version": "3.8.8"
  },
  "orig_nbformat": 4
 },
 "nbformat": 4,
 "nbformat_minor": 2
}
